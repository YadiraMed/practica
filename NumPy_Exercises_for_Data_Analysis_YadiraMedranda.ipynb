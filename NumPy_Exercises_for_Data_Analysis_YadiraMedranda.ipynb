{
  "nbformat": 4,
  "nbformat_minor": 0,
  "metadata": {
    "colab": {
      "provenance": [],
      "authorship_tag": "ABX9TyM0qYpOqGZPonP+6qXU0HL3",
      "include_colab_link": true
    },
    "kernelspec": {
      "name": "python3",
      "display_name": "Python 3"
    },
    "language_info": {
      "name": "python"
    }
  },
  "cells": [
    {
      "cell_type": "markdown",
      "metadata": {
        "id": "view-in-github",
        "colab_type": "text"
      },
      "source": [
        "<a href=\"https://colab.research.google.com/github/YadiraMed/practica/blob/main/NumPy_Exercises_for_Data_Analysis_YadiraMedranda.ipynb\" target=\"_parent\"><img src=\"https://colab.research.google.com/assets/colab-badge.svg\" alt=\"Open In Colab\"/></a>"
      ]
    },
    {
      "cell_type": "markdown",
      "source": [
        "Importe numpy como np y vea la versión"
      ],
      "metadata": {
        "id": "vBVTbw4PBvPU"
      }
    },
    {
      "cell_type": "code",
      "source": [
        "import numpy as np\n",
        "np. __version__"
      ],
      "metadata": {
        "colab": {
          "base_uri": "https://localhost:8080/",
          "height": 36
        },
        "id": "K7b7bO9qB5tC",
        "outputId": "c68c5484-3b03-4c9b-8924-fb2fffffe92f"
      },
      "execution_count": null,
      "outputs": [
        {
          "output_type": "execute_result",
          "data": {
            "text/plain": [
              "'1.22.4'"
            ],
            "application/vnd.google.colaboratory.intrinsic+json": {
              "type": "string"
            }
          },
          "metadata": {},
          "execution_count": 39
        }
      ]
    },
    {
      "cell_type": "markdown",
      "source": [
        "Crear una matriz 1D de números del 0 al 9"
      ],
      "metadata": {
        "id": "xNtV2yUsEKZz"
      }
    },
    {
      "cell_type": "code",
      "source": [
        "array = np.array([1, 2, 3, 4, 5, 6, 7, 8, 9])\n",
        "print(array)"
      ],
      "metadata": {
        "colab": {
          "base_uri": "https://localhost:8080/"
        },
        "id": "0E4-M_QUE1BW",
        "outputId": "9c74b1bb-a590-4bcb-fcc9-0bf76fb0821a"
      },
      "execution_count": null,
      "outputs": [
        {
          "output_type": "stream",
          "name": "stdout",
          "text": [
            "[1 2 3 4 5 6 7 8 9]\n"
          ]
        }
      ]
    },
    {
      "cell_type": "markdown",
      "source": [
        "Cree una matriz numpy de 3 × 3 de todos los True"
      ],
      "metadata": {
        "id": "1wrHsMGTFWPy"
      }
    },
    {
      "cell_type": "code",
      "source": [
        "array = np.ones((3, 3), dtype=bool)\n",
        "print(array)"
      ],
      "metadata": {
        "colab": {
          "base_uri": "https://localhost:8080/"
        },
        "id": "ocrLvaWoFx3k",
        "outputId": "ddcddb1f-423c-4bcf-8914-ca52da8e7bf3"
      },
      "execution_count": null,
      "outputs": [
        {
          "output_type": "stream",
          "name": "stdout",
          "text": [
            "[[ True  True  True]\n",
            " [ True  True  True]\n",
            " [ True  True  True]]\n"
          ]
        }
      ]
    },
    {
      "cell_type": "markdown",
      "source": [
        "Extrae todos los números impares de la matriz"
      ],
      "metadata": {
        "id": "9RE9r0nYGLCY"
      }
    },
    {
      "cell_type": "code",
      "source": [
        "odd_numbers = array[array % 2 != 0]\n",
        "print(odd_numbers)"
      ],
      "metadata": {
        "colab": {
          "base_uri": "https://localhost:8080/"
        },
        "id": "HUOlgmPNKGZr",
        "outputId": "c355cf75-6bc9-4e4d-afad-1ff09b7c776d"
      },
      "execution_count": null,
      "outputs": [
        {
          "output_type": "stream",
          "name": "stdout",
          "text": [
            "[1 3 5 7 9]\n"
          ]
        }
      ]
    },
    {
      "cell_type": "markdown",
      "source": [
        "Reemplace todos los números impares en la matriz con -1"
      ],
      "metadata": {
        "id": "YKY61-OrKQRG"
      }
    },
    {
      "cell_type": "code",
      "source": [
        "array[array % 2 != 0] = -1\n",
        "print(array)"
      ],
      "metadata": {
        "colab": {
          "base_uri": "https://localhost:8080/"
        },
        "id": "fZ29Wb9MKVlN",
        "outputId": "3239cedc-2483-4af2-9aef-49a5431eb05c"
      },
      "execution_count": null,
      "outputs": [
        {
          "output_type": "stream",
          "name": "stdout",
          "text": [
            "[-1  2 -1  4 -1  6 -1  8 -1]\n"
          ]
        }
      ]
    },
    {
      "cell_type": "markdown",
      "source": [
        "Convierta una matriz 1D en una matriz 2D con 2 filas"
      ],
      "metadata": {
        "id": "5BF08zSOKdhF"
      }
    },
    {
      "cell_type": "code",
      "source": [
        "matriz1d= np.array([1, 2, 3, 4, 5, 6, 7, 8, 9, 10])\n",
        "matriz2d = matriz1d.reshape(2, -1)\n",
        "print(matriz2d)"
      ],
      "metadata": {
        "colab": {
          "base_uri": "https://localhost:8080/"
        },
        "id": "0fsTZ3DgKhQO",
        "outputId": "3359d5f8-97e4-4bbf-fb0b-2131acce1af2"
      },
      "execution_count": null,
      "outputs": [
        {
          "output_type": "stream",
          "name": "stdout",
          "text": [
            "[[ 1  2  3  4  5]\n",
            " [ 6  7  8  9 10]]\n"
          ]
        }
      ]
    },
    {
      "cell_type": "markdown",
      "source": [
        "Apilar matrices a y b verticalmente"
      ],
      "metadata": {
        "id": "YE9igJLOLq6E"
      }
    },
    {
      "cell_type": "code",
      "source": [
        "A = np.array([1, 2, 3, 4, 5])\n",
        "B = np.array([6, 7, 8, 9, 10])\n",
        "\n",
        "stacked = np.vstack((A, B))\n",
        "print(stacked)"
      ],
      "metadata": {
        "colab": {
          "base_uri": "https://localhost:8080/"
        },
        "id": "PDtdxJPNMEbv",
        "outputId": "44400c3a-da87-41cc-98bd-0634ecc2e4e4"
      },
      "execution_count": null,
      "outputs": [
        {
          "output_type": "stream",
          "name": "stdout",
          "text": [
            "[[ 1  2  3  4  5]\n",
            " [ 6  7  8  9 10]]\n"
          ]
        }
      ]
    },
    {
      "cell_type": "markdown",
      "source": [
        "Apila las matrices a y b horizontalmente"
      ],
      "metadata": {
        "id": "qDZBQzc5MVzg"
      }
    },
    {
      "cell_type": "code",
      "source": [
        "A = np.array([1, 2, 3, 4, 5])\n",
        "B = np.array([6, 7, 8, 9, 10])\n",
        "\n",
        "stacked = np.hstack((A, B))\n",
        "print(stacked)"
      ],
      "metadata": {
        "colab": {
          "base_uri": "https://localhost:8080/"
        },
        "id": "040ebcztMara",
        "outputId": "581eaa13-ebd2-45a4-abec-8ca553845d52"
      },
      "execution_count": null,
      "outputs": [
        {
          "output_type": "stream",
          "name": "stdout",
          "text": [
            "[ 1  2  3  4  5  6  7  8  9 10]\n"
          ]
        }
      ]
    },
    {
      "cell_type": "markdown",
      "source": [
        "Obtenga todos los artículos entre 5 y 10 de a."
      ],
      "metadata": {
        "id": "u-p_RpifMsSl"
      }
    },
    {
      "cell_type": "code",
      "source": [
        "a = np.arange(15)\n",
        "print(a[5:11])"
      ],
      "metadata": {
        "colab": {
          "base_uri": "https://localhost:8080/"
        },
        "id": "G-Q5Up3WM19z",
        "outputId": "1cd3b908-29c3-4a87-afa8-d6eb32db922e"
      },
      "execution_count": null,
      "outputs": [
        {
          "output_type": "stream",
          "name": "stdout",
          "text": [
            "[ 5  6  7  8  9 10]\n"
          ]
        }
      ]
    },
    {
      "cell_type": "markdown",
      "source": [
        "¿Cómo hacer una función de python que maneje escalares para trabajar en matrices numpy?"
      ],
      "metadata": {
        "id": "NUwqEcueNbQO"
      }
    },
    {
      "cell_type": "code",
      "source": [
        "def suma_escalar(matriz, escalar):\n",
        "    resultado = np.add(matriz, escalar)\n",
        "    return resultado\n",
        "    a = np.array([5, 7, 9, 8, 6, 4, 5])\n",
        "    b = np.array([6, 3, 4, 8, 9, 7, 1])\n",
        "\n",
        "resultado = suma_escalar(a, b)\n",
        "print(resultado)"
      ],
      "metadata": {
        "colab": {
          "base_uri": "https://localhost:8080/"
        },
        "id": "FjMwTXv5OVad",
        "outputId": "f207d054-6349-493a-f473-54b73ba5690d"
      },
      "execution_count": 109,
      "outputs": [
        {
          "output_type": "stream",
          "name": "stdout",
          "text": [
            "[11 10 13 16 15 11  6]\n"
          ]
        }
      ]
    },
    {
      "cell_type": "markdown",
      "source": [
        "Intercambiar las columnas 1 y 2 en la matriz"
      ],
      "metadata": {
        "id": "QpSr_ay2ULux"
      }
    },
    {
      "cell_type": "code",
      "source": [
        "matriz = np.array([[4, 5, 1], [2, 3, 7], [6, 8, 9]])\n",
        "matriz[:, [1, 2]] = matriz[:, [2, 1]]\n",
        "print(matriz)"
      ],
      "metadata": {
        "colab": {
          "base_uri": "https://localhost:8080/"
        },
        "id": "erhq0cUQUMzM",
        "outputId": "664273af-07c4-46a4-b05c-9efe02c1fc73"
      },
      "execution_count": 127,
      "outputs": [
        {
          "output_type": "stream",
          "name": "stdout",
          "text": [
            "[[4 1 5]\n",
            " [2 7 3]\n",
            " [6 9 8]]\n"
          ]
        }
      ]
    },
    {
      "cell_type": "markdown",
      "source": [
        "Cree una matriz 2D de forma 5x3 para contener números decimales aleatorios entre 5 y 10."
      ],
      "metadata": {
        "id": "R9EcQOyFVya2"
      }
    },
    {
      "cell_type": "code",
      "source": [
        "matriz = np.random.uniform(5, 10, size=(5, 3))\n",
        "print(matriz)"
      ],
      "metadata": {
        "colab": {
          "base_uri": "https://localhost:8080/"
        },
        "id": "Zc08NsURV_pp",
        "outputId": "6481af68-50c4-4f23-dca5-1cc0f089b4e6"
      },
      "execution_count": 128,
      "outputs": [
        {
          "output_type": "stream",
          "name": "stdout",
          "text": [
            "[[7.52977131 9.28098118 7.70415372]\n",
            " [6.02204294 5.94767539 6.68980197]\n",
            " [9.04999598 8.04138965 7.73361795]\n",
            " [7.81714494 8.31182333 6.65276357]\n",
            " [5.71429554 5.8194423  7.20219942]]\n"
          ]
        }
      ]
    }
  ]
}