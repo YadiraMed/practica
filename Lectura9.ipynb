{
  "nbformat": 4,
  "nbformat_minor": 0,
  "metadata": {
    "colab": {
      "provenance": [],
      "authorship_tag": "ABX9TyM8GbQwkEZoZy95p2fjVG8H",
      "include_colab_link": true
    },
    "kernelspec": {
      "name": "python3",
      "display_name": "Python 3"
    },
    "language_info": {
      "name": "python"
    }
  },
  "cells": [
    {
      "cell_type": "markdown",
      "metadata": {
        "id": "view-in-github",
        "colab_type": "text"
      },
      "source": [
        "<a href=\"https://colab.research.google.com/github/YadiraMed/practica/blob/main/Lectura9.ipynb\" target=\"_parent\"><img src=\"https://colab.research.google.com/assets/colab-badge.svg\" alt=\"Open In Colab\"/></a>"
      ]
    },
    {
      "cell_type": "code",
      "execution_count": null,
      "metadata": {
        "colab": {
          "base_uri": "https://localhost:8080/"
        },
        "id": "opO2oMUdqK23",
        "outputId": "259967b0-389c-49a1-bd1a-367487dbc8f1"
      },
      "outputs": [
        {
          "output_type": "stream",
          "name": "stdout",
          "text": [
            "Python 3.10.12\n"
          ]
        }
      ],
      "source": [
        "!python --version\n"
      ]
    },
    {
      "cell_type": "markdown",
      "source": [
        "Tipos de datos básicos"
      ],
      "metadata": {
        "id": "Nub4J2QTqj9t"
      }
    },
    {
      "cell_type": "code",
      "source": [
        "sample1=10\n",
        "sample2=2.2\n",
        "sample3='yadira'\n",
        "print(type(sample1))\n",
        "print(type(sample2))\n",
        "print(type(sample3))\n",
        "print(sample1+sample2)\n",
        "print(sample1*sample2)\n",
        "print(sample1**2)\n",
        "\n",
        "s1=True\n",
        "s2=False\n",
        "print(s1 and s2)\n",
        "print(s1 or s2)\n",
        "print(not s1)\n",
        "\n",
        "print(len(sample3))\n",
        "print(sample3.upper())\n",
        "print(sample3.lower())\n",
        "print(sample3.capitalize())"
      ],
      "metadata": {
        "colab": {
          "base_uri": "https://localhost:8080/"
        },
        "id": "1WCI4KWFq1sQ",
        "outputId": "43b0673e-0cdd-4e0c-8ff5-afc3caa95802"
      },
      "execution_count": null,
      "outputs": [
        {
          "output_type": "stream",
          "name": "stdout",
          "text": [
            "<class 'int'>\n",
            "<class 'float'>\n",
            "<class 'str'>\n",
            "12.2\n",
            "22.0\n",
            "100\n",
            "False\n",
            "True\n",
            "False\n",
            "6\n",
            "YADIRA\n",
            "yadira\n",
            "Yadira\n"
          ]
        }
      ]
    }
  ]
}